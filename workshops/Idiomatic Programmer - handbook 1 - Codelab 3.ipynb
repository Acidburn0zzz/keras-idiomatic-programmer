{
 "cells": [
  {
   "cell_type": "markdown",
   "metadata": {},
   "source": [
    "## Idiomatic Programmer Code Labs\n",
    "\n",
    "## Code Labs #3 - Get Familiar with Wide Convolutional Neural Networks\n",
    "\n",
    "## Prerequistes:\n",
    "\n",
    "    1. Familiar with Python\n",
    "    2. Completed Handbook 3/Part 3: Wide Convolutional Neural Networks\n",
    "\n",
    "## Objectives:\n",
    "\n",
    "    1. Branch Convolutions in a Inception v1 Module\n",
    "    2. Branch Convolutions in a ResNeXt Module"
   ]
  },
  {
   "cell_type": "markdown",
   "metadata": {},
   "source": [
    "## Inception Module as Function API\n",
    "\n",
    "Let's create an Inception Module.\n",
    "\n",
    "We will use some elementary approaches:\n",
    "\n",
    "    1. Dimensionality Reduction replacing one convolution in a pair with a bottleneck convolution.\n",
    "    2. Branching the input through multiple convolutions (wide).\n",
    "    3. Concatenating the branches back together."
   ]
  },
  {
   "cell_type": "code",
   "execution_count": null,
   "metadata": {},
   "outputs": [],
   "source": [
    "from keras import Model, Input\n",
    "from keras import layers\n",
    "\n",
    "# Our hypothetical input to an inception module\n",
    "x = inputs = Input((229, 229, 3))\n",
    "\n",
    "# The inception branches (where x is the previous layer)\n",
    "x1 = layers.MaxPooling2D((3, 3), strides=(1,1), padding='same')(x)\n",
    "# Add the bottleneck after the 2x2 pooling layer\n",
    "# Hint: x1 is the branch for pooling + bottleneck. So the output from pooling is the input to the bottleneck\n",
    "x1 = layers.Conv2D(64, ??, strides=??, padding='same')(??)\n",
    "\n",
    "# Add the second branch which is a single bottleneck convolution\n",
    "x2 = layers.Conv2D(64, (1, 1), strides=(1, 1), padding='same')(x)  # passes straight through\n",
    "\n",
    "x3 = layers.Conv2D(64, (1, 1), strides=(1, 1), padding='same')(x)\n",
    "# Add the the 3x3 convolutional layer after the bottleneck\n",
    "# Hint: x3 is the branch for bottleneck + convolution. So the output from bottleneck is the input to the convolution\n",
    "x3 = layers.Conv2D(96, ??, strides=(1, 1), padding='same')(??)\n",
    "\n",
    "x4 = layers.Conv2D(64, (1, 1), strides=(1, 1), padding='same')(x)\n",
    "# Add the the 5x5 convolutional layer after the bottleneck\n",
    "# Hint: x4 is the branch for bottleneck + convolution. So the output from bottleneck is the input to the convolution\n",
    "x4 = layers.Conv2D(48, ??, strides=(1, 1), padding='same')(??)\n",
    "\n",
    "# Concatenate the filters from each of the four branches\n",
    "# Hint: List the branches (variable names) as a list\n",
    "x = outputs = layers.concatenate([??, ??, ??, ??])\n",
    "\n",
    "# Let's create a mini-inception neural network using a single inception v1 module\n",
    "model = Model(inputs, outputs)\n",
    "model.summary()"
   ]
  },
  {
   "cell_type": "markdown",
   "metadata": {},
   "source": [
    "### Verify the model architecture using summary method\n",
    "\n",
    "It should look like below:\n",
    "\n",
    "```\n",
    "__________________________________________________________________________________________________\n",
    "Layer (type)                    Output Shape         Param #     Connected to                     \n",
    "==================================================================================================\n",
    "input_1 (InputLayer)            (None, 229, 229, 3)  0                                            \n",
    "__________________________________________________________________________________________________\n",
    "max_pooling2d_3 (MaxPooling2D)  (None, 229, 229, 3)  0           input_1[0][0]                    \n",
    "__________________________________________________________________________________________________\n",
    "conv2d_3 (Conv2D)               (None, 229, 229, 64) 256         input_1[0][0]                    \n",
    "__________________________________________________________________________________________________\n",
    "conv2d_5 (Conv2D)               (None, 229, 229, 64) 256         input_1[0][0]                    \n",
    "__________________________________________________________________________________________________\n",
    "conv2d_1 (Conv2D)               (None, 229, 229, 64) 256         max_pooling2d_3[0][0]            \n",
    "__________________________________________________________________________________________________\n",
    "conv2d_2 (Conv2D)               (None, 229, 229, 64) 256         input_1[0][0]                    \n",
    "__________________________________________________________________________________________________\n",
    "conv2d_4 (Conv2D)               (None, 229, 229, 96) 55392       conv2d_3[0][0]                   \n",
    "__________________________________________________________________________________________________\n",
    "conv2d_6 (Conv2D)               (None, 229, 229, 48) 76848       conv2d_5[0][0]                   \n",
    "__________________________________________________________________________________________________\n",
    "concatenate_1 (Concatenate)     (None, 229, 229, 272 0           conv2d_1[0][0]                   \n",
    "                                                                 conv2d_2[0][0]                   \n",
    "                                                                 conv2d_4[0][0]                   \n",
    "                                                                 conv2d_6[0][0]                   \n",
    "==================================================================================================\n",
    "Total params: 133,264\n",
    "Trainable params: 133,264\n",
    "Non-trainable params: 0\n",
    "```"
   ]
  },
  {
   "cell_type": "code",
   "execution_count": null,
   "metadata": {},
   "outputs": [],
   "source": [
    "model.summary()"
   ]
  }
 ],
 "metadata": {
  "kernelspec": {
   "display_name": "Python 3",
   "language": "python",
   "name": "python3"
  },
  "language_info": {
   "codemirror_mode": {
    "name": "ipython",
    "version": 3
   },
   "file_extension": ".py",
   "mimetype": "text/x-python",
   "name": "python",
   "nbconvert_exporter": "python",
   "pygments_lexer": "ipython3",
   "version": "3.5.2"
  }
 },
 "nbformat": 4,
 "nbformat_minor": 2
}
