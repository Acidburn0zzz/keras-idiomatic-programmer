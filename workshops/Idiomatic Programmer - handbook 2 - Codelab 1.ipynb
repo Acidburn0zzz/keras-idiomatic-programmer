{
 "cells": [
  {
   "cell_type": "code",
   "execution_count": null,
   "metadata": {},
   "outputs": [],
   "source": []
  },
  {
   "cell_type": "markdown",
   "metadata": {},
   "source": [
    "# Idiomatic Programmer Code Labs\n",
    "\n",
    "## Code Labs #1 - Get Familiar with Data Preprocessing\n",
    "\n",
    "## Prerequistes:\n",
    "\n",
    "    1. Familiar with Python\n",
    "    2. Completed Handbook 2/Part 11: Data Engineering\n",
    "\n",
    "## Objectives:\n",
    "\n",
    "    1. Reading and Resizing Images\n",
    "    2. Assembling images into datasets\n",
    "    3. Normalizing/Standardizing images\n",
    "    4. Setting the datatype"
   ]
  },
  {
   "cell_type": "markdown",
   "metadata": {},
   "source": [
    "## Setup:\n",
    "\n",
    "Install the additional relevant packages to get started with Keras/OpenCV, and then import them."
   ]
  },
  {
   "cell_type": "code",
   "execution_count": 1,
   "metadata": {},
   "outputs": [
    {
     "name": "stdout",
     "output_type": "stream",
     "text": [
      "Collecting opencv-python\n",
      "  Downloading https://files.pythonhosted.org/packages/96/c9/dea38753441604e60ad9ddc82a5fdda2b9d262bc18ca269a5d39f893d0e3/opencv_python-4.1.0.25-cp35-cp35m-win_amd64.whl (37.4MB)\n",
      "Requirement already satisfied, skipping upgrade: numpy>=1.11.1 in c:\\users\\'\\appdata\\local\\programs\\python\\python35\\lib\\site-packages (from opencv-python) (1.16.4)\n",
      "Installing collected packages: opencv-python\n",
      "  Found existing installation: opencv-python 3.4.1.15\n",
      "    Uninstalling opencv-python-3.4.1.15:\n",
      "      Successfully uninstalled opencv-python-3.4.1.15\n",
      "Successfully installed opencv-python-4.1.0.25\n"
     ]
    },
    {
     "name": "stderr",
     "output_type": "stream",
     "text": [
      "You are using pip version 18.0, however version 19.1.1 is available.\n",
      "You should consider upgrading via the 'python -m pip install --upgrade pip' command.\n"
     ]
    },
    {
     "name": "stdout",
     "output_type": "stream",
     "text": [
      "4.1.0\n"
     ]
    }
   ],
   "source": [
    "# Install OpenCV computer vision package\n",
    "!pip install -U opencv-python\n",
    "\n",
    "# Import OpenCV \n",
    "import cv2\n",
    "# We will also be using the numpy package in this code lab\n",
    "import numpy as np\n",
    "\n",
    "print(cv2.__version__)"
   ]
  },
  {
   "cell_type": "markdown",
   "metadata": {},
   "source": [
    "## Reading/Resizing Images\n",
    "\n",
    "Let's TODO\n",
    "\n",
    "    \n",
    "You fill in the blanks (replace the ??), make sure it passes the Python interpreter, and then verify it's correctness with the summary output."
   ]
  },
  {
   "cell_type": "code",
   "execution_count": 3,
   "metadata": {},
   "outputs": [
    {
     "name": "stdout",
     "output_type": "stream",
     "text": [
      "(584, 612, 3)\n"
     ]
    }
   ],
   "source": [
    "# Let's read in the image as a color image\n",
    "# HINT: the parameter value for a color image\n",
    "image = cv2.imread( 'apple.jpg', cv2.IMREAD_??)\n",
    "\n",
    "# Let's verify we read it in correctly. We should see (584, 612, 3)\n",
    "print(image.shape)"
   ]
  },
  {
   "cell_type": "code",
   "execution_count": null,
   "metadata": {},
   "outputs": [],
   "source": []
  }
 ],
 "metadata": {
  "kernelspec": {
   "display_name": "Python 3",
   "language": "python",
   "name": "python3"
  },
  "language_info": {
   "codemirror_mode": {
    "name": "ipython",
    "version": 3
   },
   "file_extension": ".py",
   "mimetype": "text/x-python",
   "name": "python",
   "nbconvert_exporter": "python",
   "pygments_lexer": "ipython3",
   "version": "3.5.2"
  }
 },
 "nbformat": 4,
 "nbformat_minor": 2
}
