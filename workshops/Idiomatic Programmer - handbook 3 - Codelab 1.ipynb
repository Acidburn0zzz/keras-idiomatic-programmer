{
 "cells": [
  {
   "cell_type": "code",
   "execution_count": null,
   "metadata": {},
   "outputs": [],
   "source": [
    "# Copyright 2019 Google LLC\n",
    "#\n",
    "# Licensed under the Apache License, Version 2.0 (the \"License\");\n",
    "# you may not use this file except in compliance with the License.\n",
    "# You may obtain a copy of the License at\n",
    "#\n",
    "#     https://www.apache.org/licenses/LICENSE-2.0\n",
    "#\n",
    "# Unless required by applicable law or agreed to in writing, software\n",
    "# distributed under the License is distributed on an \"AS IS\" BASIS,\n",
    "# WITHOUT WARRANTIES OR CONDITIONS OF ANY KIND, either express or implied.\n",
    "# See the License for the specific language governing permissions and\n",
    "# limitations under the License."
   ]
  },
  {
   "cell_type": "markdown",
   "metadata": {},
   "source": [
    "# Idiomatic Programmer Code Labs\n",
    "\n",
    "## Code Labs #3 - Get Familiar with Hyperparameters\n",
    "\n",
    "## Prerequistes:\n",
    "\n",
    "    1. Familiar with Python\n",
    "    2. Completed Handbook 3/Part 10: Training Preparation and Hyperparameters\n",
    "\n",
    "## Objectives:\n",
    "\n",
    "    1. Setting Epochs and Mini-Batches\n",
    "    2. "
   ]
  },
  {
   "cell_type": "markdown",
   "metadata": {},
   "source": [
    "## TODO"
   ]
  },
  {
   "cell_type": "code",
   "execution_count": null,
   "metadata": {},
   "outputs": [],
   "source": [
    "from keras.datasets import cifar10\n",
    "import random\n",
    "\n",
    "# Let's use the CIFAR-10 dataset\n",
    "(x_train, y_train), (x_test, y_test) = cifar10.load_data()\n",
    "\n",
    "# We will use a mini-batch size of 128\n",
    "batch_size = 128\n",
    "\n",
    "# Calculate the total number of mini-batches in an epoch\n",
    "# HINT:\n",
    "batches = len(x_train) // batch_size\n",
    "\n",
    "# Let's use a seed so we can randomly shuffle both the pixel data and labels the same shuffle.\n",
    "seed = 101\n",
    "\n",
    "# Let's do 5 passes (epochs) over the dataset\n",
    "epochs = 5\n",
    "for epoch in range(epochs):\n",
    "    # Shuffle the dataset at the beginning of each epoch\n",
    "    # HINT:\n",
    "    random.seed(seed)\n",
    "    random.shuffle(x_train)\n",
    "    random.seed(seed)\n",
    "    random.shuffle(y_train)\n",
    "    # Set a new seed for the next shuffle\n",
    "    seed += random.randint(0, 100)\n",
    "    \n",
    "    print(\"Epoch\", epoch+1)\n",
    "    \n",
    "    for batch in range(batches):\n",
    "        x_batch = x_train[batch * batch_size:(batch+1) * batch_size]\n",
    "        y_batch = y_train[batch * batch_size:(batch+1) * batch_size]\n",
    "        print(\"Batch\", batch+1)\n",
    "        \n",
    "print(\"Done\")\n",
    "    "
   ]
  },
  {
   "cell_type": "code",
   "execution_count": null,
   "metadata": {},
   "outputs": [],
   "source": []
  }
 ],
 "metadata": {
  "kernelspec": {
   "display_name": "Python 3",
   "language": "python",
   "name": "python3"
  },
  "language_info": {
   "codemirror_mode": {
    "name": "ipython",
    "version": 3
   },
   "file_extension": ".py",
   "mimetype": "text/x-python",
   "name": "python",
   "nbconvert_exporter": "python",
   "pygments_lexer": "ipython3",
   "version": "3.5.2"
  }
 },
 "nbformat": 4,
 "nbformat_minor": 2
}
