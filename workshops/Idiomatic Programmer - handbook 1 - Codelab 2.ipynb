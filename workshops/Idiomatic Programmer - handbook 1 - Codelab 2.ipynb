{
 "cells": [
  {
   "cell_type": "markdown",
   "metadata": {},
   "source": [
    "# Idiomatic Programmer Code Labs\n",
    "\n",
    "## Code Labs #2 - Get Familiar with Convolutional Neural Networks (CNN)\n",
    "\n",
    "## Prerequistes:\n",
    "\n",
    "    1. Familiar with Python\n",
    "    2. Completed Handbook 2/Part 2: Convolutional Neural Networks\n",
    "\n",
    "## Objectives:\n",
    "\n",
    "    1. Create a basic CNN.\n",
    "    2. Create a VGG class CNN\n",
    "    3. Create a CNN with an identity link (Residual CNN)"
   ]
  },
  {
   "cell_type": "markdown",
   "metadata": {},
   "source": [
    "## Basic CNN as Sequential API\n",
    "\n",
    "Let's create a basic CNN. We will make it as two convolutional layers, each followed by a max pooling layer.\n",
    "\n",
    "We will use some elementary approaches:\n",
    "\n",
    "    1. We will double the number of filters with each subsequent layer.\n",
    "    2. We will reduce the size of the feature maps by using a stride > 1."
   ]
  },
  {
   "cell_type": "code",
   "execution_count": null,
   "metadata": {},
   "outputs": [],
   "source": [
    "from keras import Sequential\n",
    "from keras.layers import Conv2D, MaxPooling2D, Dense\n",
    "\n",
    "# Let's start with a Sequential model\n",
    "model = Sequential()\n",
    "\n",
    "# Let's assume we are building a model for CIFAR-10, which are 32x32 RGB images\n",
    "# hint: how many channels are in an RGB image\n",
    "input_shape=(32, 32, ??)\n",
    "\n",
    "# Let's add a first convolution layer with 3x3 filter and strides=2\n",
    "model.add(Conv2D(??, ??, strides=2, activation='relu', input_shape=input_shape))\n",
    "\n",
    "# Let's reduce the feature maps by 75%\n",
    "# hint: 2x2 window and move 2 pixels at a time\n",
    "model.add(MaxPooling2D(??, strides=??))\n",
    "\n",
    "# Let's add a second convolution layer with 3x3 filter and strides=2 and double the filters\n",
    "model.add(Conv2D(??, ??, strides=2, activation='relu'))\n",
    "\n",
    "# Let's reduce the feature maps by 75%\n",
    "model.add(MaxPooling2D(??, strides=??))\n",
    "\n",
    "model.add(Dense(10, activation='softmax'))"
   ]
  },
  {
   "cell_type": "markdown",
   "metadata": {},
   "source": [
    "### Verify the model architecture using summary method\n",
    "\n",
    "It should look like below:\n",
    "\n",
    "```\n",
    "Layer (type)                 Output Shape              Param #   \n",
    "=================================================================\n",
    "conv2d_4 (Conv2D)            (None, 15, 15, 16)        448       \n",
    "_________________________________________________________________\n",
    "max_pooling2d_4 (MaxPooling2 (None, 7, 7, 16)          0         \n",
    "_________________________________________________________________\n",
    "conv2d_5 (Conv2D)            (None, 3, 3, 32)          4640      \n",
    "_________________________________________________________________\n",
    "max_pooling2d_5 (MaxPooling2 (None, 1, 1, 32)          0         \n",
    "_________________________________________________________________\n",
    "dense_3 (Dense)              (None, 1, 1, 10)          330       \n",
    "=================================================================\n",
    "Total params: 5,418\n",
    "Trainable params: 5,418\n",
    "Non-trainable params: 0\n",
    "```"
   ]
  },
  {
   "cell_type": "code",
   "execution_count": 1,
   "metadata": {},
   "outputs": [
    {
     "ename": "NameError",
     "evalue": "name 'model' is not defined",
     "output_type": "error",
     "traceback": [
      "\u001b[1;31m---------------------------------------------------------------------------\u001b[0m",
      "\u001b[1;31mNameError\u001b[0m                                 Traceback (most recent call last)",
      "\u001b[1;32m<ipython-input-1-5f15418b3570>\u001b[0m in \u001b[0;36m<module>\u001b[1;34m()\u001b[0m\n\u001b[1;32m----> 1\u001b[1;33m \u001b[0mmodel\u001b[0m\u001b[1;33m.\u001b[0m\u001b[0msummary\u001b[0m\u001b[1;33m(\u001b[0m\u001b[1;33m)\u001b[0m\u001b[1;33m\u001b[0m\u001b[0m\n\u001b[0m",
      "\u001b[1;31mNameError\u001b[0m: name 'model' is not defined"
     ]
    }
   ],
   "source": [
    "model.summary()"
   ]
  },
  {
   "cell_type": "markdown",
   "metadata": {},
   "source": [
    "## Simple VGG as Sequential API\n",
    "\n",
    "Next, we will create a simple VGG convolutional network. VGG networks are sequential, but they add the concept of convolutional groups. The basic elements of a VGG are:\n",
    "\n",
    "    1. Each convolutional group consists of two or more convolutional layers.\n",
    "    2. Max pooling is deferred to the end of the convolutional group.\n",
    "    3. Each convolutional group is the same or double the number of filters as the last group.\n",
    "    4. Multiple dense layers are used for the classifer."
   ]
  },
  {
   "cell_type": "code",
   "execution_count": null,
   "metadata": {},
   "outputs": [],
   "source": []
  }
 ],
 "metadata": {
  "kernelspec": {
   "display_name": "Python 3",
   "language": "python",
   "name": "python3"
  },
  "language_info": {
   "codemirror_mode": {
    "name": "ipython",
    "version": 3
   },
   "file_extension": ".py",
   "mimetype": "text/x-python",
   "name": "python",
   "nbconvert_exporter": "python",
   "pygments_lexer": "ipython3",
   "version": "3.5.2"
  }
 },
 "nbformat": 4,
 "nbformat_minor": 2
}
