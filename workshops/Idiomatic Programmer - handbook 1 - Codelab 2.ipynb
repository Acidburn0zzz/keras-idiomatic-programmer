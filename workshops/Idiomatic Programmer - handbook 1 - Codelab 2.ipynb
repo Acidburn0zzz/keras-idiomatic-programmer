{
 "cells": [
  {
   "cell_type": "markdown",
   "metadata": {},
   "source": [
    "# Idiomatic Programmer Code Labs\n",
    "\n",
    "## Code Labs #2 - Get Familiar with Convolutional Neural Networks (CNN)\n",
    "\n",
    "## Prerequistes:\n",
    "\n",
    "    1. Familiar with Python\n",
    "    2. Completed Handbook 2/Part 2: Convolutional Neural Networks\n",
    "\n",
    "## Objectives:\n",
    "\n",
    "    1. Create a basic CNN.\n",
    "    2. Create a VGG class CNN\n",
    "    3. Create a CNN with an identity link (Residual CNN)"
   ]
  },
  {
   "cell_type": "markdown",
   "metadata": {},
   "source": [
    "## Basic CNN as Sequential API\n",
    "\n",
    "Let's create a basic CNN. We will make it as two convolutional layers, each followed by a max pooling layer.\n",
    "\n",
    "We will use some elementary approaches:\n",
    "\n",
    "    1. We will double the number of filters with each subsequent layer.\n",
    "    2. We will reduce the size of the feature maps by using a stride > 1."
   ]
  },
  {
   "cell_type": "code",
   "execution_count": null,
   "metadata": {},
   "outputs": [],
   "source": [
    "from keras import Sequential\n",
    "from keras.layers import Conv2D, MaxPooling2D, Dense\n",
    "\n",
    "# Let's start with a Sequential model\n",
    "model = Sequential()\n",
    "\n",
    "# Let's assume we are building a model for CIFAR-10, which are 32x32 RGB images\n",
    "# hint: how many channels are in an RGB image\n",
    "input_shape=(32, 32, ??)\n",
    "\n",
    "# Let's add a first convolution layer with 3x3 filter and strides=2\n",
    "model.add(Conv2D(??, ??, strides=2, activation='relu', input_shape=input_shape))\n",
    "\n",
    "# Let's reduce the feature maps by 75%\n",
    "# hint: 2x2 window and move 2 pixels at a time\n",
    "model.add(MaxPooling2D(??, strides=??))\n",
    "\n",
    "# Let's add a second convolution layer with 3x3 filter and strides=2 and double the filters\n",
    "model.add(Conv2D(??, ??, strides=2, activation='relu'))\n",
    "\n",
    "# Let's reduce the feature maps by 75%\n",
    "model.add(MaxPooling2D(??, strides=??))\n",
    "\n",
    "model.add(Dense(10, activation='softmax'))"
   ]
  },
  {
   "cell_type": "markdown",
   "metadata": {},
   "source": [
    "### Verify the model architecture using summary method\n",
    "\n",
    "It should look like below:\n",
    "\n",
    "```\n",
    "Layer (type)                 Output Shape              Param #   \n",
    "=================================================================\n",
    "conv2d_4 (Conv2D)            (None, 15, 15, 16)        448       \n",
    "_________________________________________________________________\n",
    "max_pooling2d_4 (MaxPooling2 (None, 7, 7, 16)          0         \n",
    "_________________________________________________________________\n",
    "conv2d_5 (Conv2D)            (None, 3, 3, 32)          4640      \n",
    "_________________________________________________________________\n",
    "max_pooling2d_5 (MaxPooling2 (None, 1, 1, 32)          0         \n",
    "_________________________________________________________________\n",
    "dense_3 (Dense)              (None, 1, 1, 10)          330       \n",
    "=================================================================\n",
    "Total params: 5,418\n",
    "Trainable params: 5,418\n",
    "Non-trainable params: 0\n",
    "```"
   ]
  },
  {
   "cell_type": "code",
   "execution_count": null,
   "metadata": {},
   "outputs": [],
   "source": [
    "model.summary()"
   ]
  },
  {
   "cell_type": "markdown",
   "metadata": {},
   "source": [
    "## VGG16 as Sequential API\n",
    "\n",
    "Next, we will create a VGG convolutional network. VGG networks are sequential, but they add the concept of convolutional groups. The basic elements of a VGG are:\n",
    "\n",
    "    1. Each convolutional group consists of two or more convolutional layers.\n",
    "    2. Max pooling is deferred to the end of the convolutional group.\n",
    "    3. Each convolutional group is the same or double the number of filters as the last group.\n",
    "    4. Multiple dense layers are used for the classifer."
   ]
  },
  {
   "cell_type": "code",
   "execution_count": 2,
   "metadata": {},
   "outputs": [],
   "source": [
    "from keras import Sequential\n",
    "from keras.layers import Conv2D, MaxPooling2D, Flatten, Dense\n",
    "\n",
    "def conv_block(n_layers, n_filters):\n",
    "    \"\"\"\n",
    "        n_layers : number of convolutional layers\n",
    "        n_filters: number of filters\n",
    "    \"\"\"\n",
    "    for n in range(n_layers):\n",
    "        model.add(Conv2D(n_filters, (3, 3), strides=(1, 1), padding=\"same\",\n",
    "                  activation=\"relu\"))\n",
    "    model.add(MaxPooling2D(2, strides=2))\n",
    "\n",
    "# Create a Sequential Model\n",
    "model = Sequential()\n",
    "\n",
    "# Add Convolutional Frontend with 64 3x3 filters of stride 1, TODO\n",
    "model.add(Conv2D(??, ??, strides=(1, 1), padding=\"same\", activation=\"relu\",\n",
    "          input_shape=(224, 224, 3)))\n",
    "\n",
    "\n",
    "conv_block(1, 64)\n",
    "conv_block(2, 128)\n",
    "conv_block(3, 256)\n",
    "conv_block(3, 512)\n",
    "conv_block(3, 512)\n",
    "\n",
    "# Add DNN Backend with two layers of 4096 nodes\n",
    "# hint: think of what you need to do to the 2D feature maps from the convolutional layers before passing to dense layers.\n",
    "model.add(??)\n",
    "model.add(Dense(??, activation='relu'))\n",
    "model.add(Dense(??, activation='relu'))\n",
    "\n",
    "# Output layer for classification (1000 classes)\n",
    "model.add(Dense(1000, activation=??))\n",
    "\n"
   ]
  },
  {
   "cell_type": "markdown",
   "metadata": {},
   "source": [
    "### Verify the model architecture using summary method\n",
    "\n",
    "It should look like below:\n",
    "\n",
    "```\n",
    "_________________________________________________________________\n",
    "Layer (type)                 Output Shape              Param #   \n",
    "=================================================================\n",
    "conv2d_14 (Conv2D)           (None, 224, 224, 64)      1792      \n",
    "_________________________________________________________________\n",
    "conv2d_15 (Conv2D)           (None, 224, 224, 64)      36928     \n",
    "_________________________________________________________________\n",
    "max_pooling2d_6 (MaxPooling2 (None, 112, 112, 64)      0         \n",
    "_________________________________________________________________\n",
    "conv2d_16 (Conv2D)           (None, 112, 112, 128)     73856     \n",
    "_________________________________________________________________\n",
    "conv2d_17 (Conv2D)           (None, 112, 112, 128)     147584    \n",
    "_________________________________________________________________\n",
    "max_pooling2d_7 (MaxPooling2 (None, 56, 56, 128)       0         \n",
    "_________________________________________________________________\n",
    "conv2d_18 (Conv2D)           (None, 56, 56, 256)       295168    \n",
    "_________________________________________________________________\n",
    "conv2d_19 (Conv2D)           (None, 56, 56, 256)       590080    \n",
    "_________________________________________________________________\n",
    "conv2d_20 (Conv2D)           (None, 56, 56, 256)       590080    \n",
    "_________________________________________________________________\n",
    "max_pooling2d_8 (MaxPooling2 (None, 28, 28, 256)       0         \n",
    "_________________________________________________________________\n",
    "conv2d_21 (Conv2D)           (None, 28, 28, 512)       1180160   \n",
    "_________________________________________________________________\n",
    "conv2d_22 (Conv2D)           (None, 28, 28, 512)       2359808   \n",
    "_________________________________________________________________\n",
    "conv2d_23 (Conv2D)           (None, 28, 28, 512)       2359808   \n",
    "_________________________________________________________________\n",
    "max_pooling2d_9 (MaxPooling2 (None, 14, 14, 512)       0         \n",
    "_________________________________________________________________\n",
    "conv2d_24 (Conv2D)           (None, 14, 14, 512)       2359808   \n",
    "_________________________________________________________________\n",
    "conv2d_25 (Conv2D)           (None, 14, 14, 512)       2359808   \n",
    "_________________________________________________________________\n",
    "conv2d_26 (Conv2D)           (None, 14, 14, 512)       2359808   \n",
    "_________________________________________________________________\n",
    "max_pooling2d_10 (MaxPooling (None, 7, 7, 512)         0         \n",
    "_________________________________________________________________\n",
    "flatten_2 (Flatten)          (None, 25088)             0         \n",
    "_________________________________________________________________\n",
    "dense_4 (Dense)              (None, 4096)              102764544 \n",
    "_________________________________________________________________\n",
    "dense_5 (Dense)              (None, 4096)              16781312  \n",
    "_________________________________________________________________\n",
    "dense_6 (Dense)              (None, 1000)              4097000   \n",
    "=================================================================\n",
    "Total params: 138,357,544\n",
    "Trainable params: 138,357,544\n",
    "Non-trainable params: 0\n",
    "__________________________\n",
    "```"
   ]
  },
  {
   "cell_type": "code",
   "execution_count": null,
   "metadata": {},
   "outputs": [],
   "source": [
    "model.summary()"
   ]
  },
  {
   "cell_type": "markdown",
   "metadata": {},
   "source": [
    "## Residual CNN as Functional API\n",
    "\n",
    "Finally, we will create a residual convolutional network (ResNet). The basic elements of a ResNet are:\n",
    "\n",
    "    1. X"
   ]
  },
  {
   "cell_type": "code",
   "execution_count": null,
   "metadata": {},
   "outputs": [],
   "source": []
  }
 ],
 "metadata": {
  "kernelspec": {
   "display_name": "Python 3",
   "language": "python",
   "name": "python3"
  },
  "language_info": {
   "codemirror_mode": {
    "name": "ipython",
    "version": 3
   },
   "file_extension": ".py",
   "mimetype": "text/x-python",
   "name": "python",
   "nbconvert_exporter": "python",
   "pygments_lexer": "ipython3",
   "version": "3.6.5"
  }
 },
 "nbformat": 4,
 "nbformat_minor": 2
}
