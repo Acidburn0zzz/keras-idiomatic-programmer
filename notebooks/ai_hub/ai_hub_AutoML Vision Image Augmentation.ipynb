{
 "cells": [
  {
   "cell_type": "code",
   "execution_count": null,
   "metadata": {},
   "outputs": [],
   "source": [
    "# Copyright 2019 Google LLC\n",
    "#\n",
    "# Licensed under the Apache License, Version 2.0 (the \"License\");\n",
    "# you may not use this file except in compliance with the License.\n",
    "# You may obtain a copy of the License at\n",
    "#\n",
    "#     https://www.apache.org/licenses/LICENSE-2.0\n",
    "#\n",
    "# Unless required by applicable law or agreed to in writing, software\n",
    "# distributed under the License is distributed on an \"AS IS\" BASIS,\n",
    "# WITHOUT WARRANTIES OR CONDITIONS OF ANY KIND, either express or implied.\n",
    "# See the License for the specific language governing permissions and\n",
    "# limitations under the License."
   ]
  },
  {
   "cell_type": "markdown",
   "metadata": {},
   "source": [
    "# Overview - Image Augmentation for AutoML Vision\n",
    "\n",
    "### Topic\n",
    "\n",
    "This notebook demonstrates adding image augmentation using the AutoML API for Vision Classification.\n",
    "\n",
    "### Audience\n",
    "\n",
    "The audience for this notebook are software engineers (SWE) with limited experience in machine learning (ML) and data scientists seeking to add automatic image augmentation when using AutoML Vision Classification.\n",
    "\n",
    "### Prerequistes\n",
    "\n",
    "One should be familar with:\n",
    "\n",
    "    - Python 3.X\n",
    "    - Google Cloud Platform (GCP) and using GCP buckets.\n",
    "    - Concept of Image Classification.\n",
    "    - Concept of Image Augmentation.\n",
    "    \n",
    "### Dataset\n",
    "\n",
    "This notebook using the builtin dataset for flowers stored on a Google public GCS bucket, located at:\n",
    "\n",
    "    gs://cloud-ml-data/img/flower_photos/\n",
    "    \n",
    "This dataset contains train and test images for training an image classifier to recognize the following flower types:\n",
    "\n",
    "    - Daisy\n",
    "    - Dandelion\n",
    "    - Roses\n",
    "    - Sunflowers\n",
    "    - Tulips\n",
    "\n",
    "### Objective\n",
    "\n",
    "The objective of this tutorial is to learn how to use the AutoML API to add image augmentation to an existing dataset.\n",
    "\n",
    "### Costs \n",
    "\n",
    "This tutorial uses billable components of AutoML Vision.\n",
    "\n",
    "Learn about [AutoML Vision Pricing](https://cloud.google.com/vision/automl/pricing)\n",
    "\n",
    "### Set up your local development environment\n",
    "\n",
    "**If you are using Colab or AI Platform Notebooks**, your environment already meets\n",
    "all the requirements to run this notebook. You can skip this step.\n",
    "\n",
    "**Otherwise**, make sure your environment meets this notebook's requirements.\n",
    "You need the following:\n",
    "\n",
    "* The Google Cloud SDK\n",
    "* The Google AutoML SDK\n",
    "* Git\n",
    "* Python 3\n",
    "* virtualenv\n",
    "* Jupyter notebook running in a virtual environment with Python 3\n",
    "* OpenCV\n",
    "\n",
    "The Google Cloud guide to [Setting up a Python development\n",
    "environment](https://cloud.google.com/python/setup) and the [Jupyter\n",
    "installation guide](https://jupyter.org/install) provide detailed instructions\n",
    "for meeting these requirements. The following steps provide a condensed set of\n",
    "instructions:\n",
    "\n",
    "1. [Install and initialize the Cloud SDK.](https://cloud.google.com/sdk/docs/)\n",
    "\n",
    "2. [Install Python 3.](https://cloud.google.com/python/setup#installing_python)\n",
    "\n",
    "3. [Install AutoML SDK](https://pypi.org/project/google-cloud-automl/) using the `pip install google-cloud-automl` command in a shell.\n",
    "\n",
    "4. [Install OpenCV](https://pypi.org/project/opencv-python/) using the `pip install opencv-python`\n",
    "\n",
    "5. [Install\n",
    "   virtualenv](https://cloud.google.com/python/setup#installing_and_using_virtualenv)\n",
    "   and create a virtual environment that uses Python 3.\n",
    "\n",
    "6. Activate that environment and run `pip install jupyter` in a shell to install\n",
    "   Jupyter.\n",
    "\n",
    "7. Run `jupyter notebook` in a shell to launch Jupyter.\n",
    "\n",
    "8. Open this notebook in the Jupyter Notebook Dashboard.\n",
    "\n",
    "### Set up your GCP project\n",
    "\n",
    "**The following steps are required, regardless of your notebook environment.**\n",
    "\n",
    "1. [Select or create a GCP project.](https://console.cloud.google.com/cloud-resource-manager)\n",
    "\n",
    "2. [Make sure that billing is enabled for your project.](https://cloud.google.com/billing/docs/how-to/modify-project)\n",
    "\n",
    "3. [Enable the AI Platform APIs and Compute Engine APIs.](https://console.cloud.google.com/flows/enableapi?apiid=ml.googleapis.com,compute_component)\n",
    "\n",
    "4. Enter your project ID in the cell below. Then run the  cell to make sure the\n",
    "Cloud SDK uses the right project for all the commands in this notebook.\n",
    "\n",
    "**Note**: Jupyter runs lines prefixed with `!` as shell commands, and it interpolates Python variables prefixed with `$` into these commands.\n",
    "\n",
    "Jupyter runs lines prefixed with `%` as automagic commands, which are interpreted within your IPython session. Automagic commands include `%ls`, `%pwd`, `%env` and `%pip` for example."
   ]
  },
  {
   "cell_type": "code",
   "execution_count": null,
   "metadata": {},
   "outputs": [],
   "source": [
    "PROJECT_ID = \"[your-project-id]\" #@param {type:\"string\"}\n",
    "!gcloud config set project $PROJECT_ID"
   ]
  },
  {
   "cell_type": "markdown",
   "metadata": {},
   "source": [
    "### Authenticate your GCP account\n",
    "\n",
    "**If you are using AI Platform Notebooks**, your environment is already\n",
    "authenticated. Skip this step.\n",
    "\n",
    "**If you are using Colab**, run the cell below and follow the instructions\n",
    "when prompted to authenticate your account via oAuth.\n",
    "\n",
    "**Otherwise**, follow these steps:\n",
    "\n",
    "1. In the GCP Console, go to the [**Create service account key**\n",
    "   page](https://console.cloud.google.com/apis/credentials/serviceaccountkey).\n",
    "\n",
    "2. From the **Service account** drop-down list, select **New service account**.\n",
    "\n",
    "3. In the **Service account name** field, enter a name.\n",
    "\n",
    "4. From the **Role** drop-down list, select\n",
    "   **Machine Learning Engine > AI Platform Admin** and\n",
    "   **Storage > Storage Object Admin**.\n",
    "\n",
    "5. Click *Create*. A JSON file that contains your key downloads to your\n",
    "local environment.\n",
    "\n",
    "6. Enter the path to your service account key as the\n",
    "`GOOGLE_APPLICATION_CREDENTIALS` variable in the cell below and run the cell."
   ]
  },
  {
   "cell_type": "code",
   "execution_count": null,
   "metadata": {},
   "outputs": [],
   "source": [
    "import sys\n",
    "\n",
    "# If you are running this notebook in Colab, run this cell and follow the\n",
    "# instructions to authenticate your GCP account. This provides access to your\n",
    "# Cloud Storage bucket and lets you submit training jobs and prediction\n",
    "# requests.\n",
    "\n",
    "if 'google.colab' in sys.modules:\n",
    "  from google.colab import auth as google_auth\n",
    "  google_auth.authenticate_user()\n",
    "\n",
    "# If you are running this notebook locally, replace the string below with the\n",
    "# path to your service account key and run this cell to authenticate your GCP\n",
    "# account.\n",
    "else:\n",
    "  %env GOOGLE_APPLICATION_CREDENTIALS your_path_to_credentials.json"
   ]
  },
  {
   "cell_type": "markdown",
   "metadata": {},
   "source": [
    "### Set Service Account Role for AutoML\n",
    "\n",
    "Add yourself and your service account to the AutoML Editor IAM role.\n",
    "\n",
    "    - Replace your-userid@your-domain with your user account.\n",
    "    - Replace service-account-name with the name of your new service account, for example service-account1@myproject.iam.gserviceaccount.com."
   ]
  },
  {
   "cell_type": "code",
   "execution_count": null,
   "metadata": {},
   "outputs": [],
   "source": [
    "!gcloud auth login\n",
    "!gcloud projects add-iam-policy-binding $PROJECT_ID \\\n",
    "   --member=\"[user:your-userid@your-domain]\" \\\n",
    "   --role=\"roles/automl.admin\"\n",
    "!gcloud projects add-iam-policy-binding $PROJECT_ID \\\n",
    "   --member=\"[serviceAccount:service-account-name]\" \\\n",
    "   --role=\"roles/automl.editor\""
   ]
  },
  {
   "cell_type": "markdown",
   "metadata": {},
   "source": [
    "### Allow AutoML service to access for Google Cloud project\n",
    "\n",
    "Allow the AutoML service account (custom-vision@appspot.gserviceaccount.com) to access your Google Cloud project resources:\n",
    "\n",
    "*This is a pre-existing global AutoML Vision service account which is separate from the project service account you just created; it is not visible in your project's list of service accounts.*"
   ]
  },
  {
   "cell_type": "code",
   "execution_count": null,
   "metadata": {},
   "outputs": [],
   "source": [
    "!gcloud projects add-iam-policy-binding $PROJECT_ID \\\n",
    "  --member=\"serviceAccount:custom-vision@appspot.gserviceaccount.com\" \\\n",
    "  --role=\"roles/ml.admin\"\n",
    "!gcloud projects add-iam-policy-binding $PROJECT_ID \\\n",
    "  --member=\"serviceAccount:custom-vision@appspot.gserviceaccount.com\" \\\n",
    "  --role=\"roles/storage.admin\"\n",
    "!gcloud projects add-iam-policy-binding $PROJECT_ID \\\n",
    "  --member=\"serviceAccount:custom-vision@appspot.gserviceaccount.com\" \\\n",
    "  --role=\"roles/serviceusage.serviceUsageAdmin\""
   ]
  },
  {
   "cell_type": "markdown",
   "metadata": {},
   "source": [
    "### Create a Cloud Storage bucket\n",
    "\n",
    "**The following steps are required, regardless of your notebook environment.**\n",
    "\n",
    "When you submit a training job using the Cloud SDK, you upload a Python package\n",
    "containing your training code to a Cloud Storage bucket. AI Platform runs\n",
    "the code from this package. In this tutorial, AI Platform also saves the\n",
    "trained model that results from your job in the same bucket. You can then\n",
    "create an AI Platform model version based on this output in order to serve\n",
    "online predictions.\n",
    "\n",
    "Set the name of your Cloud Storage bucket below. It must be unique across all\n",
    "Cloud Storage buckets. \n",
    "\n",
    "You may also change the `COMPUTE_REGION` variable, which is used for operations\n",
    "throughout the rest of this notebook. Make sure to [choose a region where Cloud\n",
    "AI Platform services are\n",
    "available](https://cloud.google.com/ml-engine/docs/tensorflow/regions). You may\n",
    "not use a Multi-Regional Storage bucket for training with AI Platform."
   ]
  },
  {
   "cell_type": "code",
   "execution_count": null,
   "metadata": {},
   "outputs": [],
   "source": [
    "BUCKET_NAME = PROJECT_ID + \"-vcm\"        #@param {type:\"string\"}"
   ]
  },
  {
   "cell_type": "markdown",
   "metadata": {},
   "source": [
    "**Only if your bucket doesn't already exist**: Run the following cell to create your Cloud Storage bucket."
   ]
  },
  {
   "cell_type": "code",
   "execution_count": null,
   "metadata": {
    "scrolled": true
   },
   "outputs": [],
   "source": [
    "# Default compute region for AutoML\n",
    "COMPUTE_REGION='us-central1'\n",
    "\n",
    "! gsutil mb -l $COMPUTE_REGION gs://$BUCKET_NAME"
   ]
  },
  {
   "cell_type": "markdown",
   "metadata": {},
   "source": [
    "Finally, validate access to your Cloud Storage bucket by examining its contents:"
   ]
  },
  {
   "cell_type": "code",
   "execution_count": null,
   "metadata": {},
   "outputs": [],
   "source": [
    "! gsutil ls -al gs://$BUCKET_NAME"
   ]
  },
  {
   "cell_type": "markdown",
   "metadata": {},
   "source": [
    "### PIP Install Packages and dependencies\n",
    "\n",
    "Install addional dependencies not install in Notebook environment\n",
    "(e.g. XGBoost, adanet, tf-hub)\n",
    "\n",
    "- Use the latest major GA version of the framework."
   ]
  },
  {
   "cell_type": "code",
   "execution_count": null,
   "metadata": {},
   "outputs": [],
   "source": [
    "!pip install -U google-cloud-storage\n",
    "!pip install -U opencv-python"
   ]
  },
  {
   "cell_type": "markdown",
   "metadata": {},
   "source": [
    "# Tutorial"
   ]
  },
  {
   "cell_type": "markdown",
   "metadata": {},
   "source": [
    "### Import libraries and define constants"
   ]
  },
  {
   "cell_type": "code",
   "execution_count": null,
   "metadata": {},
   "outputs": [],
   "source": [
    "import tensorflow as tf\n",
    "import numpy as np\n",
    "import cv2\n",
    "import os\n",
    "\n",
    "# import the Google AutoML client library\n",
    "from google.cloud import automl_v1beta1 as automl"
   ]
  },
  {
   "cell_type": "markdown",
   "metadata": {},
   "source": [
    "### Copy the sample images locally\n",
    "\n",
    "Copy the flower dataset used in this [Tensorflow blog](https://cloud.google.com/blog/products/gcp/how-to-classify-images-with-tensorflow-using-google-cloud-machine-learning-and-cloud-dataflow) post. The images are stored in a public Cloud Storage bucket, so you can copy them directly from there.\n",
    "\n",
    "This may take a couple of minutes to complete."
   ]
  },
  {
   "cell_type": "code",
   "execution_count": null,
   "metadata": {},
   "outputs": [],
   "source": [
    "!gsutil -m cp -R gs://cloud-ml-data/img/flower_photos/ ./"
   ]
  },
  {
   "cell_type": "markdown",
   "metadata": {},
   "source": [
    "### Image Augmentation\n",
    "\n",
    "Now that we have all the images in a bucket, we will scan through each folder (e.g., daisy) and augment each image (make a new augmented image) in the folder, as follows:\n",
    "\n",
    "    - Vertical Flip (mirror)\n",
    "    - Rotate 90 degrees\n",
    "    - Center Crop to 90%\n",
    "    \n",
    "The new augmented images will then be added back to the corresponding folder. When all done, each folder will have 4X the number of original images."
   ]
  },
  {
   "cell_type": "code",
   "execution_count": null,
   "metadata": {},
   "outputs": [],
   "source": [
    "import os\n",
    "\n",
    "def crop_center(image,cropx,cropy):\n",
    "    \"\"\" Center Crop an image\n",
    "    \"\"\"\n",
    "    H, W, C = image.shape\n",
    "    startx = W//2-(cropx//2)\n",
    "    starty = H//2-(cropy//2)    \n",
    "    return image[starty:starty+cropy,startx:startx+cropx]\n",
    "\n",
    "def augment_subdir(subdir):\n",
    "    \"\"\" Augment all the images in a sub-folder\n",
    "        - Vertical Flip (mirror)\n",
    "        - Rotate 90 degrees\n",
    "        - Center Crop to 90% of original\n",
    "    \"\"\"\n",
    "\n",
    "    # Get list of the images in the bucket\n",
    "    files=!ls $subdir\n",
    "    for file in files:\n",
    "        image = cv2.imread(subdir + \"/\" + file)\n",
    "\n",
    "        try:\n",
    "            # vertical flip\n",
    "            mirror = np.flip(image, 0)\n",
    "            # upload augmented image back to GCS bucket\n",
    "            new_file = subdir + \"/m_\" + file\n",
    "            cv2.imwrite(new_file, mirror)\n",
    "            print(new_file)\n",
    "        except: pass\n",
    "        \n",
    "        try:\n",
    "            # rotate 90m degrees\n",
    "            rot    = np.rot90(image, 1)\n",
    "            # upload augmented image back to GCS bucket\n",
    "            new_file = subdir + \"/r_\" + file\n",
    "            cv2.imwrite(new_file, rot)\n",
    "        except: pass\n",
    "\n",
    "        try:\n",
    "            # Center Crop the image by 10%\n",
    "            H = int(image.shape[0] * 0.9)\n",
    "            W = int(image.shape[1] * 0.9)\n",
    "            crop = crop_center(image, W, H)\n",
    "            # upload augmented image back to GCS bucket\n",
    "            new_file = subdir + \"/c_\" + file\n",
    "            cv2.imwrite(new_file, crop)\n",
    "        except: pass\n",
    "        print(subdir, file)\n",
    "        \n",
    "augment_subdir(\"flower_photos/daisy\")\n",
    "augment_subdir(\"flower_photos/dandelion\")\n",
    "augment_subdir(\"flower_photos/roses\")\n",
    "augment_subdir(\"flower_photos/sunflowers\")\n",
    "augment_subdir(\"flower_photos/tulips\")"
   ]
  },
  {
   "cell_type": "markdown",
   "metadata": {},
   "source": [
    "### Copy the sample+augmented images into your bucket\n",
    "\n",
    "Copy the augmented flower dataset to your own bucket.\n",
    "\n",
    "This may take a couple of minutes to complete."
   ]
  },
  {
   "cell_type": "code",
   "execution_count": null,
   "metadata": {},
   "outputs": [],
   "source": [
    "!gsutil -m cp -R flower_photos/ gs://$BUCKET_NAME/img/"
   ]
  },
  {
   "cell_type": "markdown",
   "metadata": {},
   "source": [
    "### Create the CSV file\n",
    "\n",
    "The sample dataset contains a CSV file with all of the image locations and the labels for each image. You'll use that to create your own CSV file:\n",
    "\n",
    "    1. Update the CSV file to point to the files in your own bucket.\n",
    "    2. Copy the CSV file into your bucket.\n",
    "    \n",
    "To learn more about preparing your training data, see [Preparing Training Data](https://cloud.google.com/vision/automl/docs/prepare)"
   ]
  },
  {
   "cell_type": "code",
   "execution_count": null,
   "metadata": {},
   "outputs": [],
   "source": [
    "import os\n",
    "csv_file = open(\"all_data.csv\", \"w\")\n",
    "subdirs = os.scandir('flower_photos')\n",
    "for subdir in subdirs:\n",
    "    if subdir.is_dir():\n",
    "        files = os.scandir(subdir.path)\n",
    "        for file in files:\n",
    "            suffix = file.name.split('.')[-1]\n",
    "            if suffix in ['jpg', 'jpeg', 'png', 'gif', 'bmp']:\n",
    "                csv_file.write('gs://' + BUCKET_NAME + '/img/' + file.path + \",\" + subdir.name + \"\\n\")\n",
    "csv_file.close()\n",
    "\n",
    "!gsutil cp all_data.csv gs://$BUCKET_NAME/csv/"
   ]
  },
  {
   "cell_type": "markdown",
   "metadata": {},
   "source": [
    "### Create and Configure an AutoML client instance"
   ]
  },
  {
   "cell_type": "code",
   "execution_count": null,
   "metadata": {},
   "outputs": [],
   "source": [
    "# Create an AutoML client\n",
    "client = automl.AutoMlClient()\n",
    "\n",
    "# Derive the full GCP path to the project\n",
    "project_location = client.location_path(PROJECT_ID, COMPUTE_REGION)"
   ]
  },
  {
   "cell_type": "markdown",
   "metadata": {},
   "source": [
    "### Creating a dataset\n",
    "\n",
    "A dataset contains representative samples of the type of content you want to classify, labeled with the category labels you want your custom model to use. The dataset serves as the input for training a model.\n",
    "\n",
    "The main steps for building a dataset are:\n",
    "\n",
    "    - Specify a name for the dataset.\n",
    "    - Create a dataset and specify whether to allow multiple labels on each item.\n",
    "    - Import data items into the dataset.\n",
    "    \n",
    "The first step in creating a custom model is to create an empty dataset that will eventually hold the training data for the model. When you create a dataset, you specify the type of classification you want your custom model to perform:\n",
    "\n",
    "    MULTICLASS assigns a single label to each classified document\n",
    "    MULTILABEL allows a document to be assigned multiple labels\n",
    "    \n",
    "*In this tutorial, we are doing a MULTICLASS dataset*"
   ]
  },
  {
   "cell_type": "code",
   "execution_count": null,
   "metadata": {},
   "outputs": [],
   "source": [
    "# Specify a name for the dataset\n",
    "DATASET_NAME=\"[my-dataset-name]\"\n",
    "\n",
    "# Specify the image classification type for the dataset.\n",
    "dataset_metadata = {\"classification_type\": 'MULTICLASS'}\n",
    "# Set dataset name and metadata of the dataset.\n",
    "my_dataset = {\n",
    "    \"display_name\": DATASET_NAME,\n",
    "    \"image_classification_dataset_metadata\": dataset_metadata,\n",
    "}\n",
    "\n",
    "# Create a dataset with the dataset metadata in the region.\n",
    "response = client.create_dataset(project_location, my_dataset)"
   ]
  },
  {
   "cell_type": "markdown",
   "metadata": {},
   "source": [
    "Display response for creating an empty dataset."
   ]
  },
  {
   "cell_type": "code",
   "execution_count": null,
   "metadata": {},
   "outputs": [],
   "source": [
    "# Display the dataset information.\n",
    "print(\"Dataset name: {}\".format(response.name))\n",
    "print(\"Dataset id: {}\".format(response.name.split(\"/\")[-1]))\n",
    "print(\"Dataset display name: {}\".format(response.display_name))\n",
    "print(\"Image classification dataset metadata:\")\n",
    "print(\"\\t{}\".format(response.image_classification_dataset_metadata))\n",
    "print(\"Dataset example count: {}\".format(response.example_count))\n",
    "\n",
    "# Save the dataset ID\n",
    "dataset_id = response.name.split(\"/\")[-1]"
   ]
  },
  {
   "cell_type": "markdown",
   "metadata": {},
   "source": [
    "### Importing items into a dataset\n",
    "\n",
    "After you have created a dataset, you can import item URIs and labels for items from a CSV file stored in a Google Cloud Storage bucket. "
   ]
  },
  {
   "cell_type": "code",
   "execution_count": null,
   "metadata": {},
   "outputs": [],
   "source": [
    "# Get the full path of the dataset.\n",
    "dataset_full_id = client.dataset_path(\n",
    "    PROJECT_ID, COMPUTE_REGION, dataset_id\n",
    ")\n",
    "\n",
    "# Specify the location of the CSV file for the dataset\n",
    "CSV_DATASET = \"gs://\" + BUCKET_NAME + \"/csv/all_data.csv\"\n",
    "input_config = {\"gcs_source\": {\"input_uris\": [CSV_DATASET]}}\n",
    "\n",
    "# Import data from the input URI.\n",
    "response = client.import_data(dataset_full_id, input_config)\n"
   ]
  },
  {
   "cell_type": "markdown",
   "metadata": {},
   "source": [
    "Display response from initiating the import of images into the dataset. **Call will return when import has completed. This may take upto 20 minutes**"
   ]
  },
  {
   "cell_type": "code",
   "execution_count": null,
   "metadata": {},
   "outputs": [],
   "source": [
    "# synchronous check of operation status.\n",
    "print(\"Data imported. {}\".format(response.result()))"
   ]
  },
  {
   "cell_type": "markdown",
   "metadata": {},
   "source": [
    "### Listing Datasets\n",
    "\n",
    "A project can have multiple datasets, each used to train a separate model. You can get a list of the available datasets and can delete datasets you no longer need."
   ]
  },
  {
   "cell_type": "code",
   "execution_count": null,
   "metadata": {},
   "outputs": [],
   "source": [
    "response = client.list_datasets(project_location, None)\n",
    "\n",
    "print(\"List of datasets:\")\n",
    "for dataset in response:\n",
    "    # Display the dataset information.\n",
    "    print(\"Dataset name: {}\".format(dataset.name))\n",
    "    print(\"Dataset id: {}\".format(dataset.name.split(\"/\")[-1]))\n",
    "    print(\"Dataset display name: {}\".format(dataset.display_name))\n",
    "    print(\"Image classification dataset metadata:\")\n",
    "    print(\"\\t{}\".format(dataset.image_classification_dataset_metadata))\n",
    "    print(\"Dataset example count: {}\\n\".format(dataset.example_count))"
   ]
  }
 ],
 "metadata": {
  "kernelspec": {
   "display_name": "Python 3",
   "language": "python",
   "name": "python3"
  },
  "language_info": {
   "codemirror_mode": {
    "name": "ipython",
    "version": 3
   },
   "file_extension": ".py",
   "mimetype": "text/x-python",
   "name": "python",
   "nbconvert_exporter": "python",
   "pygments_lexer": "ipython3",
   "version": "3.6.7rc2"
  }
 },
 "nbformat": 4,
 "nbformat_minor": 2
}
